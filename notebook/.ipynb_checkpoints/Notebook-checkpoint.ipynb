{
 "cells": [
  {
   "cell_type": "markdown",
   "metadata": {
    "colab_type": "text",
    "id": "jxDH0E8TPIhX"
   },
   "source": [
    "# CSCI467 Lab6\n",
    "## Name: Jialing Tong\n",
    "## USC ID: 4403-9541-70"
   ]
  },
  {
   "cell_type": "code",
   "execution_count": 1,
   "metadata": {
    "colab": {
     "base_uri": "https://localhost:8080/",
     "height": 87
    },
    "colab_type": "code",
    "executionInfo": {
     "elapsed": 1987,
     "status": "ok",
     "timestamp": 1588366224873,
     "user": {
      "displayName": "Jialing Tong",
      "photoUrl": "",
      "userId": "08284323796914874416"
     },
     "user_tz": 420
    },
    "id": "nSy2vXMXIOQI",
    "outputId": "75eb8f11-e79e-4ec5-c060-1b9ba84d9772"
   },
   "outputs": [
    {
     "name": "stderr",
     "output_type": "stream",
     "text": [
      "Using TensorFlow backend.\n",
      "/usr/local/lib/python3.6/dist-packages/statsmodels/tools/_testing.py:19: FutureWarning: pandas.util.testing is deprecated. Use the functions in the public API at pandas.testing instead.\n",
      "  import pandas.util.testing as tm\n"
     ]
    }
   ],
   "source": [
    "import os\n",
    "import random\n",
    "import sys\n",
    "\n",
    "import cv2\n",
    "import keras\n",
    "import matplotlib.pyplot as plt\n",
    "import numpy as np\n",
    "import pandas as pd\n",
    "import scipy as sp\n",
    "import seaborn as sns\n",
    "import tensorflow as tf\n",
    "import tqdm\n",
    "from keras import regularizers\n",
    "from keras.callbacks import ModelCheckpoint\n",
    "from keras.datasets import cifar10\n",
    "from keras.layers import (\n",
    "    Activation,\n",
    "    Conv2D,\n",
    "    Dense,\n",
    "    Dropout,\n",
    "    Flatten,\n",
    "    MaxPooling2D,\n",
    "    Reshape,\n",
    "    Softmax,\n",
    ")\n",
    "from keras.models import Sequential\n",
    "from keras.preprocessing.image import ImageDataGenerator\n",
    "from keras.utils import np_utils\n",
    "from scipy.spatial.distance import euclidean\n",
    "from sklearn.cluster import KMeans\n",
    "from sklearn.metrics import accuracy_score\n",
    "from sklearn.metrics.pairwise import euclidean_distances\n",
    "from sklearn.model_selection import train_test_split\n",
    "from sklearn.neighbors import DistanceMetric\n",
    "from sklearn.preprocessing import LabelEncoder, OneHotEncoder\n",
    "from tensorflow.python.client import device_lib"
   ]
  },
  {
   "cell_type": "code",
   "execution_count": 2,
   "metadata": {
    "colab": {
     "base_uri": "https://localhost:8080/",
     "height": 538
    },
    "colab_type": "code",
    "executionInfo": {
     "elapsed": 1100,
     "status": "ok",
     "timestamp": 1588366228076,
     "user": {
      "displayName": "Jialing Tong",
      "photoUrl": "",
      "userId": "08284323796914874416"
     },
     "user_tz": 420
    },
    "id": "MQPQdmtFIxh1",
    "outputId": "20dd04f7-692d-428c-b4bf-831f3f333a57"
   },
   "outputs": [
    {
     "name": "stdout",
     "output_type": "stream",
     "text": [
      "[name: \"/device:CPU:0\"\n",
      "device_type: \"CPU\"\n",
      "memory_limit: 268435456\n",
      "locality {\n",
      "}\n",
      "incarnation: 13660782314103806977\n",
      ", name: \"/device:XLA_CPU:0\"\n",
      "device_type: \"XLA_CPU\"\n",
      "memory_limit: 17179869184\n",
      "locality {\n",
      "}\n",
      "incarnation: 14966096203989254794\n",
      "physical_device_desc: \"device: XLA_CPU device\"\n",
      ", name: \"/device:XLA_GPU:0\"\n",
      "device_type: \"XLA_GPU\"\n",
      "memory_limit: 17179869184\n",
      "locality {\n",
      "}\n",
      "incarnation: 15172366965427413881\n",
      "physical_device_desc: \"device: XLA_GPU device\"\n",
      ", name: \"/device:GPU:0\"\n",
      "device_type: \"GPU\"\n",
      "memory_limit: 5121520435\n",
      "locality {\n",
      "  bus_id: 1\n",
      "  links {\n",
      "  }\n",
      "}\n",
      "incarnation: 7703002509470292325\n",
      "physical_device_desc: \"device: 0, name: Tesla P100-PCIE-16GB, pci bus id: 0000:00:04.0, compute capability: 6.0\"\n",
      "]\n"
     ]
    }
   ],
   "source": [
    "config = tf.compat.v1.ConfigProto()\n",
    "config.gpu_options.per_process_gpu_memory_fraction = 0.3\n",
    "config.gpu_options.allow_growth = True\n",
    "config.gpu_options.visible_device_list = \"0\" #only the gpu 0 is allowed\n",
    "tf.compat.v1.keras.backend.set_session(tf.compat.v1.Session(config=config))\n",
    "\n",
    "print(device_lib.list_local_devices())"
   ]
  },
  {
   "cell_type": "markdown",
   "metadata": {
    "colab_type": "text",
    "id": "tOvqCyP9PZ8a"
   },
   "source": [
    "### Extract the data"
   ]
  },
  {
   "cell_type": "code",
   "execution_count": 1,
   "metadata": {
    "colab": {},
    "colab_type": "code",
    "id": "mc6JZTQMI1Yy"
   },
   "outputs": [],
   "source": [
    "def unpickle(file):\n",
    "    import pickle\n",
    "    with open(file, 'rb') as fo:\n",
    "        dict = pickle.load(fo, encoding='bytes')\n",
    "    return dict"
   ]
  },
  {
   "cell_type": "markdown",
   "metadata": {},
   "source": [
    "### Using Google Colab"
   ]
  },
  {
   "cell_type": "code",
   "execution_count": 4,
   "metadata": {
    "colab": {
     "base_uri": "https://localhost:8080/",
     "height": 34
    },
    "colab_type": "code",
    "executionInfo": {
     "elapsed": 601,
     "status": "ok",
     "timestamp": 1588366233635,
     "user": {
      "displayName": "Jialing Tong",
      "photoUrl": "",
      "userId": "08284323796914874416"
     },
     "user_tz": 420
    },
    "id": "w5xnyuT7KTs0",
    "outputId": "69e9de9c-fcca-4820-908b-adf58c59eca0"
   },
   "outputs": [
    {
     "name": "stdout",
     "output_type": "stream",
     "text": [
      "Drive already mounted at /content/drive/; to attempt to forcibly remount, call drive.mount(\"/content/drive/\", force_remount=True).\n"
     ]
    }
   ],
   "source": [
    "from google.colab import drive\n",
    "drive.mount('/content/drive/')"
   ]
  },
  {
   "cell_type": "code",
   "execution_count": 0,
   "metadata": {
    "colab": {},
    "colab_type": "code",
    "id": "KZ5vd4XdKa7A"
   },
   "outputs": [],
   "source": [
    "batch_1 = unpickle(\"/content/drive/My Drive/Jialing_Tong_CSCI467_Lab6/data/data_batch_1\")\n",
    "batch_2 = unpickle('/content/drive/My Drive/Jialing_Tong_CSCI467_Lab6/data/data_batch_2')\n",
    "batch_3 = unpickle('/content/drive/My Drive/Jialing_Tong_CSCI467_Lab6/data/data_batch_3')\n",
    "batch_4 = unpickle('/content/drive/My Drive/Jialing_Tong_CSCI467_Lab6/data/data_batch_4')\n",
    "batch_5 = unpickle('/content/drive/My Drive/Jialing_Tong_CSCI467_Lab6/data/data_batch_5')\n",
    "test_batch = unpickle('/content/drive/My Drive/Jialing_Tong_CSCI467_Lab6/data/test_batch')"
   ]
  },
  {
   "cell_type": "code",
   "execution_count": 0,
   "metadata": {
    "colab": {},
    "colab_type": "code",
    "id": "SbGvbMAIOWiv"
   },
   "outputs": [],
   "source": [
    "def Extract_Bird(batch_name):\n",
    "    res_list = [i for i in range(len(batch_name.get(b'labels'))) if batch_name.get(b'labels')[i] == 2] \n",
    "    bird_batch = np.zeros(shape=(len(res_list),3072))\n",
    "    index = 0\n",
    "    for i in res_list:\n",
    "        bird_batch[index] = batch_name.get(b'data')[i]\n",
    "        index = index+1\n",
    "    return bird_batch"
   ]
  },
  {
   "cell_type": "code",
   "execution_count": 0,
   "metadata": {
    "colab": {},
    "colab_type": "code",
    "id": "ZL9UZtSXPBA7"
   },
   "outputs": [],
   "source": [
    "import numpy as np\n",
    "# Batch 1\n",
    "bird_batch_1 = Extract_Bird(batch_1)\n",
    "# Batch 2\n",
    "bird_batch_2 = Extract_Bird(batch_2)\n",
    "train_data = np.concatenate((bird_batch_1, bird_batch_2))\n",
    "# Batch 3\n",
    "bird_batch_3 = Extract_Bird(batch_3)\n",
    "train_data = np.concatenate((train_data, bird_batch_3))\n",
    "# Batch 4\n",
    "bird_batch_4 = Extract_Bird(batch_4)\n",
    "train_data = np.concatenate((train_data, bird_batch_4))\n",
    "# Batch 5\n",
    "bird_batch_5 = Extract_Bird(batch_5)\n",
    "train_data = np.concatenate((train_data, bird_batch_5))\n",
    "# Test\n",
    "test_data = Extract_Bird(test_batch)\n",
    "# Whole data\n",
    "whole_data = np.concatenate((train_data, test_data))"
   ]
  },
  {
   "cell_type": "markdown",
   "metadata": {
    "colab_type": "text",
    "id": "zgG_k4EBPfEw"
   },
   "source": [
    "### Extract the color matric for each pixel"
   ]
  },
  {
   "cell_type": "code",
   "execution_count": 8,
   "metadata": {
    "colab": {
     "base_uri": "https://localhost:8080/",
     "height": 34
    },
    "colab_type": "code",
    "executionInfo": {
     "elapsed": 21656,
     "status": "ok",
     "timestamp": 1588366271814,
     "user": {
      "displayName": "Jialing Tong",
      "photoUrl": "",
      "userId": "08284323796914874416"
     },
     "user_tz": 420
    },
    "id": "UUrkDlLoVZmN",
    "outputId": "95b805fb-b73b-4ec7-c857-37828d7b5411"
   },
   "outputs": [
    {
     "name": "stdout",
     "output_type": "stream",
     "text": [
      "The length of the subset is:  6144000\n"
     ]
    }
   ],
   "source": [
    "from random import seed\n",
    "from random import sample\n",
    "from sklearn.cluster import KMeans\n",
    "# Generate all pixels in RGB format\n",
    "pixels = []\n",
    "for picture in whole_data:\n",
    "  for j in range(1024):\n",
    "    current = [picture[j],picture[1024+j],picture[2048+j]]\n",
    "    pixels.append(current)\n",
    "\n",
    "# Choose 100% of the total pixels\n",
    "seed(1)\n",
    "subset = sample(pixels, int(len(pixels)))\n",
    "print(\"The length of the subset is: \", len(subset))\n",
    "subset = np.asarray(subset)"
   ]
  },
  {
   "cell_type": "markdown",
   "metadata": {
    "colab_type": "text",
    "id": "do_E0UbPb-HQ"
   },
   "source": [
    "### Select main color"
   ]
  },
  {
   "cell_type": "code",
   "execution_count": 9,
   "metadata": {
    "colab": {
     "base_uri": "https://localhost:8080/",
     "height": 101
    },
    "colab_type": "code",
    "executionInfo": {
     "elapsed": 81766,
     "status": "ok",
     "timestamp": 1588366364546,
     "user": {
      "displayName": "Jialing Tong",
      "photoUrl": "",
      "userId": "08284323796914874416"
     },
     "user_tz": 420
    },
    "id": "wcnPSh-vb7QU",
    "outputId": "18b9ce1e-115a-4054-f80c-8fe3abde8fb5"
   },
   "outputs": [
    {
     "name": "stdout",
     "output_type": "stream",
     "text": [
      "The main color is shown as below in RGB order: \n",
      "[[206.12779131 211.37999068 210.98390656]\n",
      " [107.82557623 107.53622119  81.84013511]\n",
      " [155.59133222 154.82478185 134.49118961]\n",
      " [ 48.19843038  49.18666718  37.94630552]]\n"
     ]
    }
   ],
   "source": [
    "# Pick the main color\n",
    "from sklearn.cluster import KMeans\n",
    "import math\n",
    "def kMainColor(num):\n",
    "  kmeans = KMeans(n_clusters=num, random_state=0).fit(subset)\n",
    "  main_color = kmeans.cluster_centers_\n",
    "  print(\"The main color is shown as below in RGB order: \")\n",
    "  print(main_color)\n",
    "  return main_color\n",
    "main_color = kMainColor(4)"
   ]
  },
  {
   "cell_type": "code",
   "execution_count": 0,
   "metadata": {
    "colab": {},
    "colab_type": "code",
    "id": "lp-VfyrcyTYJ"
   },
   "outputs": [],
   "source": [
    "# Define a function to calculate the distance between the current color and the main color\n",
    "def dist(x, y):\n",
    "  return math.sqrt(sum([(a - b) ** 2 for a, b in zip(x, y)]))\n",
    "\n",
    "def assign_code(a, b):\n",
    "  final_color = [0.0]*len(b)\n",
    "  index = 0\n",
    "  min_dist = dist(a, b[0])\n",
    "  for i in range(len(b)):\n",
    "    color = b[i]\n",
    "    if(dist(a, color) < min_dist):\n",
    "      min_dist = dist(a, color)\n",
    "      index = i\n",
    "  final_color[index] = 1.0\n",
    "  return final_color\n",
    "\n",
    "# Define a function to generate the k-color image\n",
    "def assign_color(a, b):\n",
    "  final_color = b[0]\n",
    "  min_dist = dist(a, b[0])\n",
    "  for i in range(len(b)):\n",
    "    color = b[i]\n",
    "    if(dist(a, color) < min_dist):\n",
    "      min_dist = dist(a, color)\n",
    "      final_color = color\n",
    "  return final_color"
   ]
  },
  {
   "cell_type": "code",
   "execution_count": 0,
   "metadata": {
    "colab": {},
    "colab_type": "code",
    "id": "MjHc6Z1RyTG1"
   },
   "outputs": [],
   "source": [
    "# Convert all pictures to a RGB format\n",
    "# Train data\n",
    "RGB_train = []\n",
    "for picture in train_data:\n",
    "  # define a picture\n",
    "  w, h = 32, 32;\n",
    "  current_picture = [[0 for x in range(w)] for y in range(h)] \n",
    "  for i in range(32):\n",
    "    for j in range(32):\n",
    "      current_picture[i][j] = [picture[32*i+j],picture[32*i+j+1024],picture[32*i+j+1024*2]]\n",
    "  RGB_train.append(current_picture)\n",
    "RGB_train = np.asarray(RGB_train)\n",
    "\n",
    "# Test data\n",
    "RGB_test = []\n",
    "for picture in test_data:\n",
    "  # define a picture\n",
    "  w, h = 32, 32;\n",
    "  current_picture = [[0 for x in range(w)] for y in range(h)] \n",
    "  for i in range(32):\n",
    "    for j in range(32):\n",
    "      current_picture[i][j] = [picture[32*i+j],picture[32*i+j+1024],picture[32*i+j+1024*2]]\n",
    "  RGB_test.append(current_picture)\n",
    "RGB_test = np.asarray(RGB_test)"
   ]
  },
  {
   "cell_type": "code",
   "execution_count": 0,
   "metadata": {
    "colab": {},
    "colab_type": "code",
    "id": "OOtFaRRe4U5j"
   },
   "outputs": [],
   "source": [
    "# Convert the colored images to k-color images\n",
    "def k_color(data, main_color):\n",
    "  k_color_picture = []\n",
    "  for picture in data:\n",
    "    w, h = 32, 32;\n",
    "    current_picture = [[0 for x in range(w)] for y in range(h)] \n",
    "    for i in range(32):\n",
    "      for j in range(32):\n",
    "        current_picture[i][j] = assign_color(picture[i][j], main_color)\n",
    "    k_color_picture.append(current_picture)\n",
    "  return k_color_picture\n",
    "k_train_color = k_color(RGB_train, main_color)\n",
    "k_test_color = k_color(RGB_test, main_color)\n",
    "k_train_color = np.asarray(k_train_color)\n",
    "k_test_color = np.asarray(k_test_color)"
   ]
  },
  {
   "cell_type": "code",
   "execution_count": 0,
   "metadata": {
    "colab": {},
    "colab_type": "code",
    "id": "FoAg5yBvyZVe"
   },
   "outputs": [],
   "source": [
    "# Convert the colored images to k-encode images\n",
    "def k_encode(data, main_color):\n",
    "  k_encode_picture = []\n",
    "  for picture in data:\n",
    "    w, h = 32, 32;\n",
    "    current_picture = [[0 for x in range(w)] for y in range(h)] \n",
    "    for i in range(32):\n",
    "      for j in range(32):\n",
    "        current_picture[i][j] = assign_code(picture[i][j], main_color)\n",
    "    k_encode_picture.append(current_picture)\n",
    "  return k_encode_picture\n",
    "k_train = k_encode(RGB_train, main_color)\n",
    "k_test = k_encode(RGB_test, main_color)\n",
    "k_train = np.asarray(k_train)\n",
    "k_test = np.asarray(k_test)"
   ]
  },
  {
   "cell_type": "code",
   "execution_count": 0,
   "metadata": {
    "colab": {},
    "colab_type": "code",
    "id": "gFMj6R2XY3Aq"
   },
   "outputs": [],
   "source": [
    "# Using opencv to grayscale the picture\n",
    "# Since the opencv using the order of Blue Green Red, regenerate image in BGR order\n",
    "# Train_data\n",
    "BGR_train = []\n",
    "for picture in train_data:\n",
    "  # define a picture\n",
    "  w, h = 32, 32;\n",
    "  current_picture = [[0 for x in range(w)] for y in range(h)] \n",
    "  for i in range(32):\n",
    "    for j in range(32):\n",
    "      current_picture[i][j] = [picture[32*i+j+1024*2],picture[32*i+j+1024],picture[32*i+j]]\n",
    "  BGR_train.append(current_picture)\n",
    "BGR_train = np.asarray(BGR_train).astype('uint8')\n",
    "Gray_train = []\n",
    "for picture in BGR_train:\n",
    "  grayImage = cv2.cvtColor(picture, cv2.COLOR_RGB2GRAY)\n",
    "  Gray_train.append(grayImage)\n",
    "Gray_train = np.asarray(Gray_train).reshape(5000,32,32,1)\n",
    "\n",
    "# Test_data\n",
    "BGR_test = []\n",
    "for picture in test_data:\n",
    "  # define a picture\n",
    "  w, h = 32, 32;\n",
    "  current_picture = [[0 for x in range(w)] for y in range(h)] \n",
    "  for i in range(32):\n",
    "    for j in range(32):\n",
    "      current_picture[i][j] = [picture[32*i+j+1024*2],picture[32*i+j+1024],picture[32*i+j]]\n",
    "  BGR_test.append(current_picture)\n",
    "BGR_test = np.asarray(BGR_test).astype('uint8')\n",
    "Gray_test = []\n",
    "for picture in BGR_test:\n",
    "  grayImage = cv2.cvtColor(picture, cv2.COLOR_RGB2GRAY)\n",
    "  Gray_test.append(grayImage)\n",
    "Gray_test = np.asarray(Gray_test).reshape(1000,32,32,1)"
   ]
  },
  {
   "cell_type": "markdown",
   "metadata": {
    "colab_type": "text",
    "id": "rRHHj5flmgis"
   },
   "source": [
    "### Build deep learning model"
   ]
  },
  {
   "cell_type": "code",
   "execution_count": 0,
   "metadata": {
    "colab": {},
    "colab_type": "code",
    "id": "Y5D7ceQxmgVs"
   },
   "outputs": [],
   "source": [
    "# Using two convolution layers, two MLP, two max pooling layers\n",
    "def model():\n",
    "  model = Sequential()\n",
    "  model.add(Conv2D(32,(5,5), padding = \"same\", activation = \"relu\", input_shape = (32, 32, 1)))\n",
    "  model.add(MaxPooling2D(pool_size = (2,2), strides = 1))\n",
    "  model.add(Conv2D(32, (5,5), activation=\"relu\"))\n",
    "  model.add(MaxPooling2D(pool_size = (2,2)))\n",
    "  model.add(Conv2D(32, (5,5), padding = \"same\", activation=\"relu\"))\n",
    "  model.add(MaxPooling2D(pool_size = (2,2)))\n",
    "  model.add(Flatten())\n",
    "  model.add(Dense(1024, activation=\"relu\"))\n",
    "  model.add(Dense(4096, activation = \"softmax\"))\n",
    "  model.add(Reshape((32, 32, 4)))\n",
    "  return model"
   ]
  },
  {
   "cell_type": "code",
   "execution_count": 99,
   "metadata": {
    "colab": {
     "base_uri": "https://localhost:8080/",
     "height": 487
    },
    "colab_type": "code",
    "executionInfo": {
     "elapsed": 315,
     "status": "ok",
     "timestamp": 1588372888460,
     "user": {
      "displayName": "Jialing Tong",
      "photoUrl": "",
      "userId": "08284323796914874416"
     },
     "user_tz": 420
    },
    "id": "JTCyjKl0mNJC",
    "outputId": "a732662f-c426-4194-b24f-852255ede05c"
   },
   "outputs": [
    {
     "name": "stdout",
     "output_type": "stream",
     "text": [
      "Model: \"sequential_16\"\n",
      "_________________________________________________________________\n",
      "Layer (type)                 Output Shape              Param #   \n",
      "=================================================================\n",
      "conv2d_46 (Conv2D)           (None, 32, 32, 32)        832       \n",
      "_________________________________________________________________\n",
      "max_pooling2d_46 (MaxPooling (None, 31, 31, 32)        0         \n",
      "_________________________________________________________________\n",
      "conv2d_47 (Conv2D)           (None, 27, 27, 32)        25632     \n",
      "_________________________________________________________________\n",
      "max_pooling2d_47 (MaxPooling (None, 13, 13, 32)        0         \n",
      "_________________________________________________________________\n",
      "conv2d_48 (Conv2D)           (None, 13, 13, 32)        25632     \n",
      "_________________________________________________________________\n",
      "max_pooling2d_48 (MaxPooling (None, 6, 6, 32)          0         \n",
      "_________________________________________________________________\n",
      "flatten_16 (Flatten)         (None, 1152)              0         \n",
      "_________________________________________________________________\n",
      "dense_31 (Dense)             (None, 1024)              1180672   \n",
      "_________________________________________________________________\n",
      "dense_32 (Dense)             (None, 4096)              4198400   \n",
      "_________________________________________________________________\n",
      "reshape_16 (Reshape)         (None, 32, 32, 4)         0         \n",
      "=================================================================\n",
      "Total params: 5,431,168\n",
      "Trainable params: 5,431,168\n",
      "Non-trainable params: 0\n",
      "_________________________________________________________________\n"
     ]
    }
   ],
   "source": [
    "Deep_learning = model()\n",
    "Deep_learning.summary()"
   ]
  },
  {
   "cell_type": "code",
   "execution_count": 0,
   "metadata": {
    "colab": {},
    "colab_type": "code",
    "id": "cxqws9mTF_R5"
   },
   "outputs": [],
   "source": [
    "Deep_learning.compile(optimizer=\"adam\", loss='categorical_crossentropy',metrics=['accuracy'])"
   ]
  },
  {
   "cell_type": "code",
   "execution_count": 101,
   "metadata": {
    "colab": {
     "base_uri": "https://localhost:8080/",
     "height": 1000
    },
    "colab_type": "code",
    "executionInfo": {
     "elapsed": 46328,
     "status": "ok",
     "timestamp": 1588372940400,
     "user": {
      "displayName": "Jialing Tong",
      "photoUrl": "",
      "userId": "08284323796914874416"
     },
     "user_tz": 420
    },
    "id": "bejSWQkyH6PQ",
    "outputId": "287e4728-c4b7-4a1a-b62b-964e96e7ec78"
   },
   "outputs": [
    {
     "name": "stdout",
     "output_type": "stream",
     "text": [
      "Train on 4500 samples, validate on 500 samples\n",
      "Epoch 1/1\n",
      "4500/4500 [==============================] - 1s 267us/step - loss: 1.3081 - accuracy: 0.3961 - val_loss: 1.1091 - val_accuracy: 0.4812\n",
      "5000/5000 [==============================] - 0s 84us/step\n",
      "1000/1000 [==============================] - 0s 83us/step\n",
      "Train on 4500 samples, validate on 500 samples\n",
      "Epoch 1/1\n",
      "4500/4500 [==============================] - 1s 226us/step - loss: 1.0529 - accuracy: 0.5146 - val_loss: 1.0680 - val_accuracy: 0.5189\n",
      "5000/5000 [==============================] - 0s 79us/step\n",
      "1000/1000 [==============================] - 0s 81us/step\n",
      "Train on 4500 samples, validate on 500 samples\n",
      "Epoch 1/1\n",
      "4500/4500 [==============================] - 1s 223us/step - loss: 0.9755 - accuracy: 0.5545 - val_loss: 0.9720 - val_accuracy: 0.5508\n",
      "5000/5000 [==============================] - 0s 81us/step\n",
      "1000/1000 [==============================] - 0s 83us/step\n",
      "Train on 4500 samples, validate on 500 samples\n",
      "Epoch 1/1\n",
      "4500/4500 [==============================] - 1s 224us/step - loss: 0.9253 - accuracy: 0.5797 - val_loss: 0.9350 - val_accuracy: 0.5666\n",
      "5000/5000 [==============================] - 0s 80us/step\n",
      "1000/1000 [==============================] - 0s 77us/step\n",
      "Train on 4500 samples, validate on 500 samples\n",
      "Epoch 1/1\n",
      "4500/4500 [==============================] - 1s 225us/step - loss: 0.8805 - accuracy: 0.6030 - val_loss: 0.9178 - val_accuracy: 0.5841\n",
      "5000/5000 [==============================] - 0s 84us/step\n",
      "1000/1000 [==============================] - 0s 79us/step\n",
      "Train on 4500 samples, validate on 500 samples\n",
      "Epoch 1/1\n",
      "4500/4500 [==============================] - 1s 227us/step - loss: 0.8420 - accuracy: 0.6237 - val_loss: 0.8736 - val_accuracy: 0.5977\n",
      "5000/5000 [==============================] - 0s 80us/step\n",
      "1000/1000 [==============================] - 0s 90us/step\n",
      "Train on 4500 samples, validate on 500 samples\n",
      "Epoch 1/1\n",
      "4500/4500 [==============================] - 1s 227us/step - loss: 0.8064 - accuracy: 0.6427 - val_loss: 0.8307 - val_accuracy: 0.6295\n",
      "5000/5000 [==============================] - 0s 84us/step\n",
      "1000/1000 [==============================] - 0s 79us/step\n",
      "Train on 4500 samples, validate on 500 samples\n",
      "Epoch 1/1\n",
      "4500/4500 [==============================] - 1s 224us/step - loss: 0.7578 - accuracy: 0.6680 - val_loss: 0.8486 - val_accuracy: 0.6206\n",
      "5000/5000 [==============================] - 0s 76us/step\n",
      "1000/1000 [==============================] - 0s 81us/step\n",
      "Train on 4500 samples, validate on 500 samples\n",
      "Epoch 1/1\n",
      "4500/4500 [==============================] - 1s 225us/step - loss: 0.7239 - accuracy: 0.6861 - val_loss: 0.8186 - val_accuracy: 0.6345\n",
      "5000/5000 [==============================] - 0s 79us/step\n",
      "1000/1000 [==============================] - 0s 94us/step\n",
      "Train on 4500 samples, validate on 500 samples\n",
      "Epoch 1/1\n",
      "4500/4500 [==============================] - 1s 224us/step - loss: 0.6918 - accuracy: 0.7033 - val_loss: 0.7513 - val_accuracy: 0.6710\n",
      "5000/5000 [==============================] - 0s 78us/step\n",
      "1000/1000 [==============================] - 0s 80us/step\n",
      "Train on 4500 samples, validate on 500 samples\n",
      "Epoch 1/1\n",
      "4500/4500 [==============================] - 1s 227us/step - loss: 0.6821 - accuracy: 0.7063 - val_loss: 0.7716 - val_accuracy: 0.6636\n",
      "5000/5000 [==============================] - 0s 78us/step\n",
      "1000/1000 [==============================] - 0s 77us/step\n",
      "Train on 4500 samples, validate on 500 samples\n",
      "Epoch 1/1\n",
      "4500/4500 [==============================] - 1s 221us/step - loss: 0.6531 - accuracy: 0.7202 - val_loss: 0.7788 - val_accuracy: 0.6581\n",
      "5000/5000 [==============================] - 0s 81us/step\n",
      "1000/1000 [==============================] - 0s 80us/step\n",
      "Train on 4500 samples, validate on 500 samples\n",
      "Epoch 1/1\n",
      "4500/4500 [==============================] - 1s 223us/step - loss: 0.6340 - accuracy: 0.7298 - val_loss: 0.7271 - val_accuracy: 0.6823\n",
      "5000/5000 [==============================] - 0s 78us/step\n",
      "1000/1000 [==============================] - 0s 78us/step\n",
      "Train on 4500 samples, validate on 500 samples\n",
      "Epoch 1/1\n",
      "4500/4500 [==============================] - 1s 228us/step - loss: 0.6138 - accuracy: 0.7393 - val_loss: 0.7359 - val_accuracy: 0.6804\n",
      "5000/5000 [==============================] - 0s 81us/step\n",
      "1000/1000 [==============================] - 0s 84us/step\n",
      "Train on 4500 samples, validate on 500 samples\n",
      "Epoch 1/1\n",
      "4500/4500 [==============================] - 1s 224us/step - loss: 0.5986 - accuracy: 0.7470 - val_loss: 0.7075 - val_accuracy: 0.6919\n",
      "5000/5000 [==============================] - 0s 79us/step\n",
      "1000/1000 [==============================] - 0s 79us/step\n",
      "Train on 4500 samples, validate on 500 samples\n",
      "Epoch 1/1\n",
      "4500/4500 [==============================] - 1s 225us/step - loss: 0.5964 - accuracy: 0.7463 - val_loss: 0.7545 - val_accuracy: 0.6701\n",
      "5000/5000 [==============================] - 0s 81us/step\n",
      "1000/1000 [==============================] - 0s 82us/step\n",
      "Train on 4500 samples, validate on 500 samples\n",
      "Epoch 1/1\n",
      "4500/4500 [==============================] - 1s 223us/step - loss: 0.5712 - accuracy: 0.7589 - val_loss: 0.7075 - val_accuracy: 0.6967\n",
      "5000/5000 [==============================] - 0s 77us/step\n",
      "1000/1000 [==============================] - 0s 88us/step\n",
      "Train on 4500 samples, validate on 500 samples\n",
      "Epoch 1/1\n",
      "4500/4500 [==============================] - 1s 224us/step - loss: 0.5647 - accuracy: 0.7621 - val_loss: 0.7023 - val_accuracy: 0.6981\n",
      "5000/5000 [==============================] - 0s 82us/step\n",
      "1000/1000 [==============================] - 0s 88us/step\n",
      "Train on 4500 samples, validate on 500 samples\n",
      "Epoch 1/1\n",
      "4500/4500 [==============================] - 1s 222us/step - loss: 0.5526 - accuracy: 0.7669 - val_loss: 0.7243 - val_accuracy: 0.6857\n",
      "5000/5000 [==============================] - 0s 82us/step\n",
      "1000/1000 [==============================] - 0s 85us/step\n",
      "Train on 4500 samples, validate on 500 samples\n",
      "Epoch 1/1\n",
      "4500/4500 [==============================] - 1s 227us/step - loss: 0.6334 - accuracy: 0.7282 - val_loss: 0.8494 - val_accuracy: 0.6212\n",
      "5000/5000 [==============================] - 0s 84us/step\n",
      "1000/1000 [==============================] - 0s 91us/step\n",
      "Train on 4500 samples, validate on 500 samples\n",
      "Epoch 1/1\n",
      "4500/4500 [==============================] - 1s 227us/step - loss: 0.5672 - accuracy: 0.7603 - val_loss: 0.7568 - val_accuracy: 0.6770\n",
      "5000/5000 [==============================] - 0s 78us/step\n",
      "1000/1000 [==============================] - 0s 88us/step\n",
      "Train on 4500 samples, validate on 500 samples\n",
      "Epoch 1/1\n",
      "4500/4500 [==============================] - 1s 224us/step - loss: 0.5280 - accuracy: 0.7795 - val_loss: 0.7140 - val_accuracy: 0.6987\n",
      "5000/5000 [==============================] - 0s 80us/step\n",
      "1000/1000 [==============================] - 0s 81us/step\n",
      "Train on 4500 samples, validate on 500 samples\n",
      "Epoch 1/1\n",
      "4500/4500 [==============================] - 1s 225us/step - loss: 0.5169 - accuracy: 0.7839 - val_loss: 0.7228 - val_accuracy: 0.6930\n",
      "5000/5000 [==============================] - 0s 81us/step\n",
      "1000/1000 [==============================] - 0s 86us/step\n",
      "Train on 4500 samples, validate on 500 samples\n",
      "Epoch 1/1\n",
      "4500/4500 [==============================] - 1s 228us/step - loss: 0.5113 - accuracy: 0.7865 - val_loss: 0.7419 - val_accuracy: 0.6896\n",
      "5000/5000 [==============================] - 0s 84us/step\n",
      "1000/1000 [==============================] - 0s 80us/step\n",
      "Train on 4500 samples, validate on 500 samples\n",
      "Epoch 1/1\n",
      "4500/4500 [==============================] - 1s 219us/step - loss: 0.5136 - accuracy: 0.7846 - val_loss: 0.7114 - val_accuracy: 0.7042\n",
      "5000/5000 [==============================] - 0s 76us/step\n",
      "1000/1000 [==============================] - 0s 76us/step\n",
      "Train on 4500 samples, validate on 500 samples\n",
      "Epoch 1/1\n",
      "4500/4500 [==============================] - 1s 219us/step - loss: 0.4971 - accuracy: 0.7930 - val_loss: 0.7174 - val_accuracy: 0.7042\n",
      "5000/5000 [==============================] - 0s 78us/step\n",
      "1000/1000 [==============================] - 0s 94us/step\n",
      "Train on 4500 samples, validate on 500 samples\n",
      "Epoch 1/1\n",
      "4500/4500 [==============================] - 1s 223us/step - loss: 0.4897 - accuracy: 0.7960 - val_loss: 0.7457 - val_accuracy: 0.6880\n",
      "5000/5000 [==============================] - 0s 84us/step\n",
      "1000/1000 [==============================] - 0s 83us/step\n",
      "Train on 4500 samples, validate on 500 samples\n",
      "Epoch 1/1\n",
      "4500/4500 [==============================] - 1s 228us/step - loss: 0.4933 - accuracy: 0.7938 - val_loss: 0.7348 - val_accuracy: 0.6976\n",
      "5000/5000 [==============================] - 0s 82us/step\n",
      "1000/1000 [==============================] - 0s 91us/step\n",
      "Train on 4500 samples, validate on 500 samples\n",
      "Epoch 1/1\n",
      "4500/4500 [==============================] - 1s 222us/step - loss: 0.4929 - accuracy: 0.7934 - val_loss: 0.7523 - val_accuracy: 0.6878\n",
      "5000/5000 [==============================] - 0s 78us/step\n",
      "1000/1000 [==============================] - 0s 77us/step\n",
      "Train on 4500 samples, validate on 500 samples\n",
      "Epoch 1/1\n",
      "4500/4500 [==============================] - 1s 225us/step - loss: 0.4813 - accuracy: 0.7992 - val_loss: 0.7266 - val_accuracy: 0.7018\n",
      "5000/5000 [==============================] - 0s 79us/step\n",
      "1000/1000 [==============================] - 0s 81us/step\n"
     ]
    }
   ],
   "source": [
    "from matplotlib import pyplot\n",
    "train_error = []\n",
    "test_error = []\n",
    "# 30 Epochs\n",
    "for i in range(30):\n",
    "  Deep_learning.fit(Gray_train,k_train, epochs = 1, validation_split = 0.1)\n",
    "  train_eval = Deep_learning.evaluate(Gray_train,k_train)\n",
    "  train_error.append(1 - train_eval[1])\n",
    "  test_eval = Deep_learning.evaluate(Gray_test, k_test)\n",
    "  test_error.append(1 - test_eval[1])"
   ]
  },
  {
   "cell_type": "code",
   "execution_count": 102,
   "metadata": {
    "colab": {
     "base_uri": "https://localhost:8080/",
     "height": 541
    },
    "colab_type": "code",
    "executionInfo": {
     "elapsed": 563,
     "status": "ok",
     "timestamp": 1588372943701,
     "user": {
      "displayName": "Jialing Tong",
      "photoUrl": "",
      "userId": "08284323796914874416"
     },
     "user_tz": 420
    },
    "id": "GUh9UrNb-qc3",
    "outputId": "b8c3a07c-11c5-4724-c225-039136279b50"
   },
   "outputs": [
    {
     "data": {
      "image/png": "[encoded data removed]",
      "text/plain": [
       "<Figure size 432x288 with 1 Axes>"
      ]
     },
     "metadata": {
      "needs_background": "light",
      "tags": []
     },
     "output_type": "display_data"
    },
    {
     "data": {
      "image/png": "[encoded data removed]",
      "text/plain": [
       "<Figure size 432x288 with 1 Axes>"
      ]
     },
     "metadata": {
      "needs_background": "light",
      "tags": []
     },
     "output_type": "display_data"
    }
   ],
   "source": [
    "# Plot the train and test error for each Epoch\n",
    "plt.plot(train_error)\n",
    "plt.ylabel('Train error')\n",
    "plt.xlabel('Epoch')\n",
    "plt.show()\n",
    "plt.plot(test_error)\n",
    "plt.ylabel('Test error')\n",
    "plt.xlabel('Epoch')\n",
    "plt.show()"
   ]
  },
  {
   "cell_type": "code",
   "execution_count": 0,
   "metadata": {
    "colab": {},
    "colab_type": "code",
    "id": "L8kBjxxjPD6d"
   },
   "outputs": [],
   "source": [
    "from google.colab.patches import cv2_imshow\n",
    "def predict_picture(data):\n",
    "  pred = Deep_learning.predict(data).reshape(32,32,4)\n",
    "  w, h = 32, 32;\n",
    "  current_picture = [[0 for x in range(w)] for y in range(h)] \n",
    "  for i in range(w):\n",
    "    for j in range(h):\n",
    "      np.argmax(pred[i][j])\n",
    "      current_picture[i][j] = main_color[np.argmax(pred[i][j])]\n",
    "  current_picture = np.asarray(current_picture)\n",
    "  return current_picture"
   ]
  },
  {
   "cell_type": "code",
   "execution_count": 78,
   "metadata": {
    "colab": {
     "base_uri": "https://localhost:8080/",
     "height": 657
    },
    "colab_type": "code",
    "executionInfo": {
     "elapsed": 465,
     "status": "ok",
     "timestamp": 1588370917827,
     "user": {
      "displayName": "Jialing Tong",
      "photoUrl": "",
      "userId": "08284323796914874416"
     },
     "user_tz": 420
    },
    "id": "APtCA93vVcjT",
    "outputId": "cc0014d5-e8c3-4efb-d5fc-0758e5a88cfb"
   },
   "outputs": [
    {
     "data": {
      "image/png": "[encoded data removed]",
      "text/plain": [
       "<PIL.Image.Image image mode=RGB size=32x32 at 0x7FBC10846E10>"
      ]
     },
     "metadata": {
      "tags": []
     },
     "output_type": "display_data"
    },
    {
     "data": {
      "image/png": "[encoded data removed]",
      "text/plain": [
       "<PIL.Image.Image image mode=RGB size=32x32 at 0x7FBC10559748>"
      ]
     },
     "metadata": {
      "tags": []
     },
     "output_type": "display_data"
    },
    {
     "data": {
      "image/png": "[encoded data removed]",
      "text/plain": [
       "<PIL.Image.Image image mode=RGB size=32x32 at 0x7FBC10559390>"
      ]
     },
     "metadata": {
      "tags": []
     },
     "output_type": "display_data"
    },
    {
     "data": {
      "image/png": "[encoded data removed]",
      "text/plain": [
       "<PIL.Image.Image image mode=RGB size=32x32 at 0x7FBC10559D68>"
      ]
     },
     "metadata": {
      "tags": []
     },
     "output_type": "display_data"
    },
    {
     "data": {
      "image/png": "[encoded data removed]",
      "text/plain": [
       "<PIL.Image.Image image mode=RGB size=32x32 at 0x7FBC10559748>"
      ]
     },
     "metadata": {
      "tags": []
     },
     "output_type": "display_data"
    },
    {
     "data": {
      "image/png": "[encoded data removed]",
      "text/plain": [
       "<PIL.Image.Image image mode=RGB size=32x32 at 0x7FBC10559940>"
      ]
     },
     "metadata": {
      "tags": []
     },
     "output_type": "display_data"
    },
    {
     "data": {
      "image/png": "[encoded data removed]",
      "text/plain": [
       "<PIL.Image.Image image mode=RGB size=32x32 at 0x7FBC10559390>"
      ]
     },
     "metadata": {
      "tags": []
     },
     "output_type": "display_data"
    },
    {
     "data": {
      "image/png": "[encoded data removed]",
      "text/plain": [
       "<PIL.Image.Image image mode=RGB size=32x32 at 0x7FBC10559748>"
      ]
     },
     "metadata": {
      "tags": []
     },
     "output_type": "display_data"
    },
    {
     "data": {
      "image/png": "[encoded data removed]",
      "text/plain": [
       "<PIL.Image.Image image mode=RGB size=32x32 at 0x7FBC10559390>"
      ]
     },
     "metadata": {
      "tags": []
     },
     "output_type": "display_data"
    },
    {
     "data": {
      "image/png": "[encoded data removed]",
      "text/plain": [
       "<PIL.Image.Image image mode=RGB size=32x32 at 0x7FBC10559748>"
      ]
     },
     "metadata": {
      "tags": []
     },
     "output_type": "display_data"
    },
    {
     "data": {
      "image/png": "[encoded data removed]",
      "text/plain": [
       "<PIL.Image.Image image mode=RGB size=32x32 at 0x7FBC10559D68>"
      ]
     },
     "metadata": {
      "tags": []
     },
     "output_type": "display_data"
    },
    {
     "data": {
      "image/png": "[encoded data removed]",
      "text/plain": [
       "<PIL.Image.Image image mode=RGB size=32x32 at 0x7FBC10559390>"
      ]
     },
     "metadata": {
      "tags": []
     },
     "output_type": "display_data"
    },
    {
     "data": {
      "image/png": "[encoded data removed]",
      "text/plain": [
       "<PIL.Image.Image image mode=RGB size=32x32 at 0x7FBC1057C278>"
      ]
     },
     "metadata": {
      "tags": []
     },
     "output_type": "display_data"
    },
    {
     "data": {
      "image/png": "[encoded data removed]",
      "text/plain": [
       "<PIL.Image.Image image mode=RGB size=32x32 at 0x7FBC1057C278>"
      ]
     },
     "metadata": {
      "tags": []
     },
     "output_type": "display_data"
    },
    {
     "data": {
      "image/png": "[encoded data removed]",
      "text/plain": [
       "<PIL.Image.Image image mode=RGB size=32x32 at 0x7FBC1057C2E8>"
      ]
     },
     "metadata": {
      "tags": []
     },
     "output_type": "display_data"
    },
    {
     "data": {
      "image/png": "[encoded data removed]",
      "text/plain": [
       "<PIL.Image.Image image mode=RGB size=32x32 at 0x7FBC1057C358>"
      ]
     },
     "metadata": {
      "tags": []
     },
     "output_type": "display_data"
    },
    {
     "data": {
      "image/png": "[encoded data removed]",
      "text/plain": [
       "<PIL.Image.Image image mode=RGB size=32x32 at 0x7FBC1057C3C8>"
      ]
     },
     "metadata": {
      "tags": []
     },
     "output_type": "display_data"
    },
    {
     "data": {
      "image/png": "[encoded data removed]",
      "text/plain": [
       "<PIL.Image.Image image mode=RGB size=32x32 at 0x7FBC1057C2E8>"
      ]
     },
     "metadata": {
      "tags": []
     },
     "output_type": "display_data"
    },
    {
     "data": {
      "image/png": "[encoded data removed]",
      "text/plain": [
       "<PIL.Image.Image image mode=RGB size=32x32 at 0x7FBC1057C400>"
      ]
     },
     "metadata": {
      "tags": []
     },
     "output_type": "display_data"
    },
    {
     "data": {
      "image/png": "[encoded data removed]",
      "text/plain": [
       "<PIL.Image.Image image mode=RGB size=32x32 at 0x7FBC1057C358>"
      ]
     },
     "metadata": {
      "tags": []
     },
     "output_type": "display_data"
    }
   ],
   "source": [
    "# Visually show the first 10 image in the test set\n",
    "for i in range(10):\n",
    "  cv2_imshow(k_test_color[i])\n",
    "  cv2_imshow(predict_picture(Gray_test[i].reshape(1,32,32,1)))"
   ]
  }
 ],
 "metadata": {
  "accelerator": "GPU",
  "colab": {
   "authorship_tag": "ABX9TyOqbZPSmi8FjH2KkUBKRFEx",
   "collapsed_sections": [],
   "name": "Lab6.ipynb",
   "provenance": []
  },
  "kernelspec": {
   "display_name": "Python 3",
   "language": "python",
   "name": "python3"
  },
  "language_info": {
   "codemirror_mode": {
    "name": "ipython",
    "version": 3
   },
   "file_extension": ".py",
   "mimetype": "text/x-python",
   "name": "python",
   "nbconvert_exporter": "python",
   "pygments_lexer": "ipython3",
   "version": "3.7.4"
  }
 },
 "nbformat": 4,
 "nbformat_minor": 1
}
